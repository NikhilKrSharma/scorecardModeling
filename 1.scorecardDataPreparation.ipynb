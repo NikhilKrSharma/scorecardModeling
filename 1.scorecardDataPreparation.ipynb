{
 "cells": [
  {
   "cell_type": "code",
   "execution_count": 1,
   "metadata": {
    "execution": {
     "iopub.execute_input": "2024-03-25T10:09:47.811986Z",
     "iopub.status.busy": "2024-03-25T10:09:47.811381Z",
     "iopub.status.idle": "2024-03-25T10:09:50.286486Z",
     "shell.execute_reply": "2024-03-25T10:09:50.285838Z",
     "shell.execute_reply.started": "2024-03-25T10:09:47.811954Z"
    }
   },
   "outputs": [],
   "source": [
    "import os\n",
    "import sys\n",
    "import numpy as np\n",
    "import pandas as pd\n",
    "import matplotlib.pyplot as plt\n",
    "import seaborn as sns\n",
    "import plotly as plt\n",
    "\n",
    "%matplotlib inline"
   ]
  },
  {
   "cell_type": "code",
   "execution_count": 2,
   "metadata": {
    "execution": {
     "iopub.execute_input": "2024-03-25T10:09:53.048547Z",
     "iopub.status.busy": "2024-03-25T10:09:53.048103Z",
     "iopub.status.idle": "2024-03-25T10:09:53.053244Z",
     "shell.execute_reply": "2024-03-25T10:09:53.052252Z",
     "shell.execute_reply.started": "2024-03-25T10:09:53.048519Z"
    }
   },
   "outputs": [],
   "source": [
    "# train_df = pd.read_csv('/Users/nikhil20.sharma/Library/CloudStorage/GoogleDrive-nikhil.sharma1294@gmail.com/.shortcut-targets-by-id/1hJdN4IVIzv_akIWArIYt52MlRCEbxXvV/its.nikhilksharma/REPOs/RIL-Jio/JFS/scoreCardModeling/dump/JFSCreditScoreModel/Data/Training_Data.csv')\n",
    "# val_df = pd.read_csv('/Users/nikhil20.sharma/Library/CloudStorage/GoogleDrive-nikhil.sharma1294@gmail.com/.shortcut-targets-by-id/1hJdN4IVIzv_akIWArIYt52MlRCEbxXvV/its.nikhilksharma/REPOs/RIL-Jio/JFS/scoreCardModeling/dump/JFSCreditScoreModel/Data/Validation_Data.csv')\n",
    "# df = pd.concat([train_df, val_df])\n",
    "# df.to_csv('./data/data.csv', index=False)"
   ]
  },
  {
   "cell_type": "code",
   "execution_count": 3,
   "metadata": {
    "execution": {
     "iopub.execute_input": "2024-03-25T10:09:53.355758Z",
     "iopub.status.busy": "2024-03-25T10:09:53.355388Z",
     "iopub.status.idle": "2024-03-25T10:09:55.685260Z",
     "shell.execute_reply": "2024-03-25T10:09:55.684383Z",
     "shell.execute_reply.started": "2024-03-25T10:09:53.355727Z"
    }
   },
   "outputs": [],
   "source": [
    "df = pd.read_csv('./data/data.csv')"
   ]
  },
  {
   "cell_type": "markdown",
   "metadata": {},
   "source": [
    "# Data Exploration"
   ]
  },
  {
   "cell_type": "code",
   "execution_count": 19,
   "metadata": {
    "execution": {
     "iopub.execute_input": "2024-03-25T10:18:18.732582Z",
     "iopub.status.busy": "2024-03-25T10:18:18.732136Z",
     "iopub.status.idle": "2024-03-25T10:18:18.757822Z",
     "shell.execute_reply": "2024-03-25T10:18:18.756994Z",
     "shell.execute_reply.started": "2024-03-25T10:18:18.732546Z"
    }
   },
   "outputs": [
    {
     "data": {
      "text/html": [
       "<div>\n",
       "<style scoped>\n",
       "    .dataframe tbody tr th:only-of-type {\n",
       "        vertical-align: middle;\n",
       "    }\n",
       "\n",
       "    .dataframe tbody tr th {\n",
       "        vertical-align: top;\n",
       "    }\n",
       "\n",
       "    .dataframe thead th {\n",
       "        text-align: right;\n",
       "    }\n",
       "</style>\n",
       "<table border=\"1\" class=\"dataframe\">\n",
       "  <thead>\n",
       "    <tr style=\"text-align: right;\">\n",
       "      <th></th>\n",
       "      <th>count_add_on_rchrgs_last_3mnths</th>\n",
       "      <th>latest_channel_used</th>\n",
       "      <th>most_usd_chnl_lst_5_rchrgs</th>\n",
       "      <th>count_pymnt_dly_last_3mnts</th>\n",
       "      <th>max_pymnt_dly_last_3mths</th>\n",
       "      <th>base_plan_value_lst</th>\n",
       "      <th>no_outstation_visit_month_1</th>\n",
       "      <th>distinct_ncell_id_month_1</th>\n",
       "      <th>switched_off_days_6_month</th>\n",
       "      <th>Finance</th>\n",
       "      <th>...</th>\n",
       "      <th>Health</th>\n",
       "      <th>Travel</th>\n",
       "      <th>device_price_segment</th>\n",
       "      <th>count_offline_rchrgs_last_9mnths</th>\n",
       "      <th>total_device_used_2_year</th>\n",
       "      <th>rvnue_prcnt_chnge_cumulative_lst_3_months</th>\n",
       "      <th>rvnue_prcnt_chnge_cumulative_lst_6_months</th>\n",
       "      <th>rvnue_prcnt_chnge_cumulative_lst_9_months</th>\n",
       "      <th>age</th>\n",
       "      <th>Flag</th>\n",
       "    </tr>\n",
       "  </thead>\n",
       "  <tbody>\n",
       "    <tr>\n",
       "      <th>894983</th>\n",
       "      <td>1.0</td>\n",
       "      <td>MYJIO</td>\n",
       "      <td>PhonePE</td>\n",
       "      <td>0.0</td>\n",
       "      <td>0.0</td>\n",
       "      <td>666.0</td>\n",
       "      <td>3.0</td>\n",
       "      <td>10.0</td>\n",
       "      <td>0.0</td>\n",
       "      <td>2.0</td>\n",
       "      <td>...</td>\n",
       "      <td>NaN</td>\n",
       "      <td>7.0</td>\n",
       "      <td>10 TO 15K</td>\n",
       "      <td>0.0</td>\n",
       "      <td>2.0</td>\n",
       "      <td>23.0</td>\n",
       "      <td>18.5</td>\n",
       "      <td>23.0</td>\n",
       "      <td>35.0</td>\n",
       "      <td>0</td>\n",
       "    </tr>\n",
       "    <tr>\n",
       "      <th>894984</th>\n",
       "      <td>38.0</td>\n",
       "      <td>EURONET</td>\n",
       "      <td>EURONET</td>\n",
       "      <td>0.0</td>\n",
       "      <td>0.0</td>\n",
       "      <td>719.0</td>\n",
       "      <td>3.0</td>\n",
       "      <td>11.0</td>\n",
       "      <td>0.0</td>\n",
       "      <td>195.0</td>\n",
       "      <td>...</td>\n",
       "      <td>9.0</td>\n",
       "      <td>3.0</td>\n",
       "      <td>15 TO 20K</td>\n",
       "      <td>0.0</td>\n",
       "      <td>4.0</td>\n",
       "      <td>102.7</td>\n",
       "      <td>75.0</td>\n",
       "      <td>135.5</td>\n",
       "      <td>24.0</td>\n",
       "      <td>0</td>\n",
       "    </tr>\n",
       "    <tr>\n",
       "      <th>894985</th>\n",
       "      <td>0.0</td>\n",
       "      <td>PhonePE</td>\n",
       "      <td>PhonePE</td>\n",
       "      <td>3.0</td>\n",
       "      <td>9.0</td>\n",
       "      <td>299.0</td>\n",
       "      <td>NaN</td>\n",
       "      <td>NaN</td>\n",
       "      <td>1.0</td>\n",
       "      <td>44.0</td>\n",
       "      <td>...</td>\n",
       "      <td>1.0</td>\n",
       "      <td>NaN</td>\n",
       "      <td>20 TO 30K</td>\n",
       "      <td>0.0</td>\n",
       "      <td>4.0</td>\n",
       "      <td>-8.9</td>\n",
       "      <td>16.8</td>\n",
       "      <td>4.9</td>\n",
       "      <td>29.0</td>\n",
       "      <td>0</td>\n",
       "    </tr>\n",
       "    <tr>\n",
       "      <th>894986</th>\n",
       "      <td>0.0</td>\n",
       "      <td>MYJIO</td>\n",
       "      <td>JioAssociate</td>\n",
       "      <td>1.0</td>\n",
       "      <td>10.0</td>\n",
       "      <td>199.0</td>\n",
       "      <td>NaN</td>\n",
       "      <td>NaN</td>\n",
       "      <td>1.0</td>\n",
       "      <td>33.0</td>\n",
       "      <td>...</td>\n",
       "      <td>20.0</td>\n",
       "      <td>6.0</td>\n",
       "      <td>10 TO 15K</td>\n",
       "      <td>1.0</td>\n",
       "      <td>2.0</td>\n",
       "      <td>-100.0</td>\n",
       "      <td>-100.0</td>\n",
       "      <td>-100.0</td>\n",
       "      <td>21.0</td>\n",
       "      <td>0</td>\n",
       "    </tr>\n",
       "    <tr>\n",
       "      <th>894987</th>\n",
       "      <td>0.0</td>\n",
       "      <td>BILLDESK</td>\n",
       "      <td>MYJIO</td>\n",
       "      <td>1.0</td>\n",
       "      <td>40.0</td>\n",
       "      <td>209.0</td>\n",
       "      <td>1.0</td>\n",
       "      <td>13.0</td>\n",
       "      <td>5.0</td>\n",
       "      <td>9.0</td>\n",
       "      <td>...</td>\n",
       "      <td>NaN</td>\n",
       "      <td>NaN</td>\n",
       "      <td>NaN</td>\n",
       "      <td>0.0</td>\n",
       "      <td>NaN</td>\n",
       "      <td>NaN</td>\n",
       "      <td>NaN</td>\n",
       "      <td>NaN</td>\n",
       "      <td>NaN</td>\n",
       "      <td>0</td>\n",
       "    </tr>\n",
       "  </tbody>\n",
       "</table>\n",
       "<p>5 rows × 22 columns</p>\n",
       "</div>"
      ],
      "text/plain": [
       "        count_add_on_rchrgs_last_3mnths latest_channel_used  \\\n",
       "894983                              1.0               MYJIO   \n",
       "894984                             38.0             EURONET   \n",
       "894985                              0.0             PhonePE   \n",
       "894986                              0.0               MYJIO   \n",
       "894987                              0.0            BILLDESK   \n",
       "\n",
       "       most_usd_chnl_lst_5_rchrgs  count_pymnt_dly_last_3mnts  \\\n",
       "894983                    PhonePE                         0.0   \n",
       "894984                    EURONET                         0.0   \n",
       "894985                    PhonePE                         3.0   \n",
       "894986               JioAssociate                         1.0   \n",
       "894987                      MYJIO                         1.0   \n",
       "\n",
       "        max_pymnt_dly_last_3mths  base_plan_value_lst  \\\n",
       "894983                       0.0                666.0   \n",
       "894984                       0.0                719.0   \n",
       "894985                       9.0                299.0   \n",
       "894986                      10.0                199.0   \n",
       "894987                      40.0                209.0   \n",
       "\n",
       "        no_outstation_visit_month_1  distinct_ncell_id_month_1  \\\n",
       "894983                          3.0                       10.0   \n",
       "894984                          3.0                       11.0   \n",
       "894985                          NaN                        NaN   \n",
       "894986                          NaN                        NaN   \n",
       "894987                          1.0                       13.0   \n",
       "\n",
       "        switched_off_days_6_month  Finance  ...  Health  Travel  \\\n",
       "894983                        0.0      2.0  ...     NaN     7.0   \n",
       "894984                        0.0    195.0  ...     9.0     3.0   \n",
       "894985                        1.0     44.0  ...     1.0     NaN   \n",
       "894986                        1.0     33.0  ...    20.0     6.0   \n",
       "894987                        5.0      9.0  ...     NaN     NaN   \n",
       "\n",
       "        device_price_segment  count_offline_rchrgs_last_9mnths  \\\n",
       "894983             10 TO 15K                               0.0   \n",
       "894984             15 TO 20K                               0.0   \n",
       "894985             20 TO 30K                               0.0   \n",
       "894986             10 TO 15K                               1.0   \n",
       "894987                   NaN                               0.0   \n",
       "\n",
       "       total_device_used_2_year  rvnue_prcnt_chnge_cumulative_lst_3_months  \\\n",
       "894983                      2.0                                       23.0   \n",
       "894984                      4.0                                      102.7   \n",
       "894985                      4.0                                       -8.9   \n",
       "894986                      2.0                                     -100.0   \n",
       "894987                      NaN                                        NaN   \n",
       "\n",
       "        rvnue_prcnt_chnge_cumulative_lst_6_months  \\\n",
       "894983                                       18.5   \n",
       "894984                                       75.0   \n",
       "894985                                       16.8   \n",
       "894986                                     -100.0   \n",
       "894987                                        NaN   \n",
       "\n",
       "        rvnue_prcnt_chnge_cumulative_lst_9_months   age  Flag  \n",
       "894983                                       23.0  35.0     0  \n",
       "894984                                      135.5  24.0     0  \n",
       "894985                                        4.9  29.0     0  \n",
       "894986                                     -100.0  21.0     0  \n",
       "894987                                        NaN   NaN     0  \n",
       "\n",
       "[5 rows x 22 columns]"
      ]
     },
     "execution_count": 19,
     "metadata": {},
     "output_type": "execute_result"
    }
   ],
   "source": [
    "df.tail()"
   ]
  },
  {
   "cell_type": "code",
   "execution_count": 4,
   "metadata": {
    "execution": {
     "iopub.execute_input": "2024-03-25T10:09:55.687375Z",
     "iopub.status.busy": "2024-03-25T10:09:55.687037Z",
     "iopub.status.idle": "2024-03-25T10:09:55.693451Z",
     "shell.execute_reply": "2024-03-25T10:09:55.692701Z",
     "shell.execute_reply.started": "2024-03-25T10:09:55.687344Z"
    }
   },
   "outputs": [
    {
     "data": {
      "text/plain": [
       "(894988, 22)"
      ]
     },
     "execution_count": 4,
     "metadata": {},
     "output_type": "execute_result"
    }
   ],
   "source": [
    "df.shape"
   ]
  },
  {
   "cell_type": "code",
   "execution_count": 17,
   "metadata": {
    "execution": {
     "iopub.execute_input": "2024-03-25T10:15:36.592225Z",
     "iopub.status.busy": "2024-03-25T10:15:36.591888Z",
     "iopub.status.idle": "2024-03-25T10:15:36.596937Z",
     "shell.execute_reply": "2024-03-25T10:15:36.596058Z",
     "shell.execute_reply.started": "2024-03-25T10:15:36.592198Z"
    }
   },
   "outputs": [
    {
     "name": "stdout",
     "output_type": "stream",
     "text": [
      "['count_add_on_rchrgs_last_3mnths', 'latest_channel_used', 'most_usd_chnl_lst_5_rchrgs', 'count_pymnt_dly_last_3mnts', 'max_pymnt_dly_last_3mths', 'base_plan_value_lst', 'no_outstation_visit_month_1', 'distinct_ncell_id_month_1', 'switched_off_days_6_month', 'Finance', 'Online Gaming', 'Credit Card', 'Health', 'Travel', 'device_price_segment', 'count_offline_rchrgs_last_9mnths', 'total_device_used_2_year', 'rvnue_prcnt_chnge_cumulative_lst_3_months', 'rvnue_prcnt_chnge_cumulative_lst_6_months', 'rvnue_prcnt_chnge_cumulative_lst_9_months', 'age', 'Flag']\n"
     ]
    }
   ],
   "source": [
    "print(list(df.columns))"
   ]
  },
  {
   "cell_type": "code",
   "execution_count": 18,
   "metadata": {
    "execution": {
     "iopub.execute_input": "2024-03-25T10:15:43.183611Z",
     "iopub.status.busy": "2024-03-25T10:15:43.183262Z",
     "iopub.status.idle": "2024-03-25T10:15:43.578505Z",
     "shell.execute_reply": "2024-03-25T10:15:43.577552Z",
     "shell.execute_reply.started": "2024-03-25T10:15:43.183583Z"
    }
   },
   "outputs": [
    {
     "name": "stdout",
     "output_type": "stream",
     "text": [
      "<class 'pandas.core.frame.DataFrame'>\n",
      "RangeIndex: 894988 entries, 0 to 894987\n",
      "Data columns (total 22 columns):\n",
      " #   Column                                     Non-Null Count   Dtype  \n",
      "---  ------                                     --------------   -----  \n",
      " 0   count_add_on_rchrgs_last_3mnths            894658 non-null  float64\n",
      " 1   latest_channel_used                        894658 non-null  object \n",
      " 2   most_usd_chnl_lst_5_rchrgs                 894658 non-null  object \n",
      " 3   count_pymnt_dly_last_3mnts                 894988 non-null  float64\n",
      " 4   max_pymnt_dly_last_3mths                   894902 non-null  float64\n",
      " 5   base_plan_value_lst                        894182 non-null  float64\n",
      " 6   no_outstation_visit_month_1                802857 non-null  float64\n",
      " 7   distinct_ncell_id_month_1                  802857 non-null  float64\n",
      " 8   switched_off_days_6_month                  894903 non-null  float64\n",
      " 9   Finance                                    864819 non-null  float64\n",
      " 10  Online Gaming                              801323 non-null  float64\n",
      " 11  Credit Card                                716002 non-null  float64\n",
      " 12  Health                                     728174 non-null  float64\n",
      " 13  Travel                                     691380 non-null  float64\n",
      " 14  device_price_segment                       795188 non-null  object \n",
      " 15  count_offline_rchrgs_last_9mnths           894658 non-null  float64\n",
      " 16  total_device_used_2_year                   796600 non-null  float64\n",
      " 17  rvnue_prcnt_chnge_cumulative_lst_3_months  872824 non-null  float64\n",
      " 18  rvnue_prcnt_chnge_cumulative_lst_6_months  855863 non-null  float64\n",
      " 19  rvnue_prcnt_chnge_cumulative_lst_9_months  833760 non-null  float64\n",
      " 20  age                                        876432 non-null  float64\n",
      " 21  Flag                                       894988 non-null  int64  \n",
      "dtypes: float64(18), int64(1), object(3)\n",
      "memory usage: 150.2+ MB\n"
     ]
    }
   ],
   "source": [
    "df.info()"
   ]
  },
  {
   "cell_type": "code",
   "execution_count": 20,
   "metadata": {
    "execution": {
     "iopub.execute_input": "2024-03-25T10:20:16.055326Z",
     "iopub.status.busy": "2024-03-25T10:20:16.054967Z",
     "iopub.status.idle": "2024-03-25T10:20:16.073008Z",
     "shell.execute_reply": "2024-03-25T10:20:16.072201Z",
     "shell.execute_reply.started": "2024-03-25T10:20:16.055305Z"
    }
   },
   "outputs": [
    {
     "data": {
      "text/plain": [
       "0    844450\n",
       "1     50538\n",
       "Name: Flag, dtype: int64"
      ]
     },
     "execution_count": 20,
     "metadata": {},
     "output_type": "execute_result"
    }
   ],
   "source": [
    "df.Flag.value_counts()"
   ]
  },
  {
   "cell_type": "code",
   "execution_count": 26,
   "metadata": {
    "execution": {
     "iopub.execute_input": "2024-03-25T10:23:00.772735Z",
     "iopub.status.busy": "2024-03-25T10:23:00.772317Z",
     "iopub.status.idle": "2024-03-25T10:23:00.777387Z",
     "shell.execute_reply": "2024-03-25T10:23:00.776645Z",
     "shell.execute_reply.started": "2024-03-25T10:23:00.772713Z"
    }
   },
   "outputs": [
    {
     "name": "stdout",
     "output_type": "stream",
     "text": [
      "Target variable is 5.98% of the total population\n"
     ]
    }
   ],
   "source": [
    "print(f'Target variable is {round(50538*100/844450, 2)}% of the total population')"
   ]
  },
  {
   "cell_type": "code",
   "execution_count": null,
   "metadata": {},
   "outputs": [],
   "source": [
    "sns.histplot(data=df"
   ]
  },
  {
   "cell_type": "code",
   "execution_count": null,
   "metadata": {},
   "outputs": [],
   "source": []
  },
  {
   "cell_type": "code",
   "execution_count": null,
   "metadata": {},
   "outputs": [],
   "source": []
  },
  {
   "cell_type": "code",
   "execution_count": null,
   "metadata": {},
   "outputs": [],
   "source": []
  },
  {
   "cell_type": "code",
   "execution_count": null,
   "metadata": {},
   "outputs": [],
   "source": []
  },
  {
   "cell_type": "code",
   "execution_count": null,
   "metadata": {},
   "outputs": [],
   "source": []
  },
  {
   "cell_type": "code",
   "execution_count": null,
   "metadata": {},
   "outputs": [],
   "source": []
  },
  {
   "cell_type": "code",
   "execution_count": null,
   "metadata": {},
   "outputs": [],
   "source": []
  },
  {
   "cell_type": "markdown",
   "metadata": {},
   "source": [
    "# Null Treatment"
   ]
  },
  {
   "cell_type": "code",
   "execution_count": 10,
   "metadata": {
    "execution": {
     "iopub.execute_input": "2024-03-25T10:12:12.100420Z",
     "iopub.status.busy": "2024-03-25T10:12:12.100029Z",
     "iopub.status.idle": "2024-03-25T10:12:12.470094Z",
     "shell.execute_reply": "2024-03-25T10:12:12.469326Z",
     "shell.execute_reply.started": "2024-03-25T10:12:12.100391Z"
    }
   },
   "outputs": [],
   "source": [
    "null_analysis = df.isnull().sum().to_frame()\n",
    "null_analysis.columns = ['nullCount']"
   ]
  },
  {
   "cell_type": "code",
   "execution_count": 6,
   "metadata": {
    "execution": {
     "iopub.execute_input": "2024-03-25T10:11:25.314816Z",
     "iopub.status.busy": "2024-03-25T10:11:25.314470Z",
     "iopub.status.idle": "2024-03-25T10:11:25.319969Z",
     "shell.execute_reply": "2024-03-25T10:11:25.319211Z",
     "shell.execute_reply.started": "2024-03-25T10:11:25.314789Z"
    }
   },
   "outputs": [
    {
     "data": {
      "text/plain": [
       "894988"
      ]
     },
     "execution_count": 6,
     "metadata": {},
     "output_type": "execute_result"
    }
   ],
   "source": [
    "df.shape[0]"
   ]
  },
  {
   "cell_type": "code",
   "execution_count": 14,
   "metadata": {
    "execution": {
     "iopub.execute_input": "2024-03-25T10:12:50.982750Z",
     "iopub.status.busy": "2024-03-25T10:12:50.982422Z",
     "iopub.status.idle": "2024-03-25T10:12:50.986959Z",
     "shell.execute_reply": "2024-03-25T10:12:50.986094Z",
     "shell.execute_reply.started": "2024-03-25T10:12:50.982724Z"
    }
   },
   "outputs": [],
   "source": [
    "null_analysis['nullPer'] = null_analysis['nullCount']*100/df.shape[0]"
   ]
  },
  {
   "cell_type": "code",
   "execution_count": 16,
   "metadata": {
    "execution": {
     "iopub.execute_input": "2024-03-25T10:13:08.013623Z",
     "iopub.status.busy": "2024-03-25T10:13:08.013240Z",
     "iopub.status.idle": "2024-03-25T10:13:08.022173Z",
     "shell.execute_reply": "2024-03-25T10:13:08.021340Z",
     "shell.execute_reply.started": "2024-03-25T10:13:08.013592Z"
    }
   },
   "outputs": [
    {
     "data": {
      "text/html": [
       "<div>\n",
       "<style scoped>\n",
       "    .dataframe tbody tr th:only-of-type {\n",
       "        vertical-align: middle;\n",
       "    }\n",
       "\n",
       "    .dataframe tbody tr th {\n",
       "        vertical-align: top;\n",
       "    }\n",
       "\n",
       "    .dataframe thead th {\n",
       "        text-align: right;\n",
       "    }\n",
       "</style>\n",
       "<table border=\"1\" class=\"dataframe\">\n",
       "  <thead>\n",
       "    <tr style=\"text-align: right;\">\n",
       "      <th></th>\n",
       "      <th>nullCount</th>\n",
       "      <th>nullPer</th>\n",
       "    </tr>\n",
       "  </thead>\n",
       "  <tbody>\n",
       "    <tr>\n",
       "      <th>count_add_on_rchrgs_last_3mnths</th>\n",
       "      <td>330</td>\n",
       "      <td>0.036872</td>\n",
       "    </tr>\n",
       "    <tr>\n",
       "      <th>latest_channel_used</th>\n",
       "      <td>330</td>\n",
       "      <td>0.036872</td>\n",
       "    </tr>\n",
       "    <tr>\n",
       "      <th>most_usd_chnl_lst_5_rchrgs</th>\n",
       "      <td>330</td>\n",
       "      <td>0.036872</td>\n",
       "    </tr>\n",
       "    <tr>\n",
       "      <th>count_pymnt_dly_last_3mnts</th>\n",
       "      <td>0</td>\n",
       "      <td>0.000000</td>\n",
       "    </tr>\n",
       "    <tr>\n",
       "      <th>max_pymnt_dly_last_3mths</th>\n",
       "      <td>86</td>\n",
       "      <td>0.009609</td>\n",
       "    </tr>\n",
       "    <tr>\n",
       "      <th>base_plan_value_lst</th>\n",
       "      <td>806</td>\n",
       "      <td>0.090057</td>\n",
       "    </tr>\n",
       "    <tr>\n",
       "      <th>no_outstation_visit_month_1</th>\n",
       "      <td>92131</td>\n",
       "      <td>10.294105</td>\n",
       "    </tr>\n",
       "    <tr>\n",
       "      <th>distinct_ncell_id_month_1</th>\n",
       "      <td>92131</td>\n",
       "      <td>10.294105</td>\n",
       "    </tr>\n",
       "    <tr>\n",
       "      <th>switched_off_days_6_month</th>\n",
       "      <td>85</td>\n",
       "      <td>0.009497</td>\n",
       "    </tr>\n",
       "    <tr>\n",
       "      <th>Finance</th>\n",
       "      <td>30169</td>\n",
       "      <td>3.370883</td>\n",
       "    </tr>\n",
       "    <tr>\n",
       "      <th>Online Gaming</th>\n",
       "      <td>93665</td>\n",
       "      <td>10.465503</td>\n",
       "    </tr>\n",
       "    <tr>\n",
       "      <th>Credit Card</th>\n",
       "      <td>178986</td>\n",
       "      <td>19.998704</td>\n",
       "    </tr>\n",
       "    <tr>\n",
       "      <th>Health</th>\n",
       "      <td>166814</td>\n",
       "      <td>18.638686</td>\n",
       "    </tr>\n",
       "    <tr>\n",
       "      <th>Travel</th>\n",
       "      <td>203608</td>\n",
       "      <td>22.749802</td>\n",
       "    </tr>\n",
       "    <tr>\n",
       "      <th>device_price_segment</th>\n",
       "      <td>99800</td>\n",
       "      <td>11.150987</td>\n",
       "    </tr>\n",
       "    <tr>\n",
       "      <th>count_offline_rchrgs_last_9mnths</th>\n",
       "      <td>330</td>\n",
       "      <td>0.036872</td>\n",
       "    </tr>\n",
       "    <tr>\n",
       "      <th>total_device_used_2_year</th>\n",
       "      <td>98388</td>\n",
       "      <td>10.993220</td>\n",
       "    </tr>\n",
       "    <tr>\n",
       "      <th>rvnue_prcnt_chnge_cumulative_lst_3_months</th>\n",
       "      <td>22164</td>\n",
       "      <td>2.476458</td>\n",
       "    </tr>\n",
       "    <tr>\n",
       "      <th>rvnue_prcnt_chnge_cumulative_lst_6_months</th>\n",
       "      <td>39125</td>\n",
       "      <td>4.371567</td>\n",
       "    </tr>\n",
       "    <tr>\n",
       "      <th>rvnue_prcnt_chnge_cumulative_lst_9_months</th>\n",
       "      <td>61228</td>\n",
       "      <td>6.841209</td>\n",
       "    </tr>\n",
       "    <tr>\n",
       "      <th>age</th>\n",
       "      <td>18556</td>\n",
       "      <td>2.073324</td>\n",
       "    </tr>\n",
       "    <tr>\n",
       "      <th>Flag</th>\n",
       "      <td>0</td>\n",
       "      <td>0.000000</td>\n",
       "    </tr>\n",
       "  </tbody>\n",
       "</table>\n",
       "</div>"
      ],
      "text/plain": [
       "                                           nullCount    nullPer\n",
       "count_add_on_rchrgs_last_3mnths                  330   0.036872\n",
       "latest_channel_used                              330   0.036872\n",
       "most_usd_chnl_lst_5_rchrgs                       330   0.036872\n",
       "count_pymnt_dly_last_3mnts                         0   0.000000\n",
       "max_pymnt_dly_last_3mths                          86   0.009609\n",
       "base_plan_value_lst                              806   0.090057\n",
       "no_outstation_visit_month_1                    92131  10.294105\n",
       "distinct_ncell_id_month_1                      92131  10.294105\n",
       "switched_off_days_6_month                         85   0.009497\n",
       "Finance                                        30169   3.370883\n",
       "Online Gaming                                  93665  10.465503\n",
       "Credit Card                                   178986  19.998704\n",
       "Health                                        166814  18.638686\n",
       "Travel                                        203608  22.749802\n",
       "device_price_segment                           99800  11.150987\n",
       "count_offline_rchrgs_last_9mnths                 330   0.036872\n",
       "total_device_used_2_year                       98388  10.993220\n",
       "rvnue_prcnt_chnge_cumulative_lst_3_months      22164   2.476458\n",
       "rvnue_prcnt_chnge_cumulative_lst_6_months      39125   4.371567\n",
       "rvnue_prcnt_chnge_cumulative_lst_9_months      61228   6.841209\n",
       "age                                            18556   2.073324\n",
       "Flag                                               0   0.000000"
      ]
     },
     "execution_count": 16,
     "metadata": {},
     "output_type": "execute_result"
    }
   ],
   "source": [
    "null_analysis"
   ]
  },
  {
   "cell_type": "code",
   "execution_count": null,
   "metadata": {},
   "outputs": [],
   "source": []
  }
 ],
 "metadata": {
  "kernelspec": {
   "display_name": "Python 3 (ipykernel)",
   "language": "python",
   "name": "python3"
  },
  "language_info": {
   "codemirror_mode": {
    "name": "ipython",
    "version": 3
   },
   "file_extension": ".py",
   "mimetype": "text/x-python",
   "name": "python",
   "nbconvert_exporter": "python",
   "pygments_lexer": "ipython3",
   "version": "3.9.18"
  }
 },
 "nbformat": 4,
 "nbformat_minor": 4
}
